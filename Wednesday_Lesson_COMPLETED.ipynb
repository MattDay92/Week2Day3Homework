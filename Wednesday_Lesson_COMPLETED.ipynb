{
 "cells": [
  {
   "cell_type": "markdown",
   "metadata": {
    "id": "_dbwZ9_ftkx2"
   },
   "source": [
    "# Data Collections 2 (Dictionaries, Sets) and Importing Modules"
   ]
  },
  {
   "cell_type": "markdown",
   "metadata": {
    "id": "hZhMxkHgtkx-"
   },
   "source": [
    "## Tasks Today:\n",
    "\n",
    "1) Dictionary <br>\n",
    " &nbsp;&nbsp;&nbsp;&nbsp; a) Declaring (key, value) <br>\n",
    " &nbsp;&nbsp;&nbsp;&nbsp; b) Accessing Values <br>\n",
    " &nbsp;&nbsp;&nbsp;&nbsp; ------ Exercise #1 - Print the eye color of each person in a double nested dict <br>\n",
    " &nbsp;&nbsp;&nbsp;&nbsp; c) Adding New Pairs <br>\n",
    " &nbsp;&nbsp;&nbsp;&nbsp; d) Modifying Values <br>\n",
    " &nbsp;&nbsp;&nbsp;&nbsp; e) Removing Key, Value Pairs <br>\n",
    " &nbsp;&nbsp;&nbsp;&nbsp; f) Looping a Dictionary <br>\n",
    " &nbsp;&nbsp;&nbsp;&nbsp; g) Looping Only Keys <br>\n",
    " &nbsp;&nbsp;&nbsp;&nbsp; h) Looping Only Values <br>\n",
    " &nbsp;&nbsp;&nbsp;&nbsp; ------ Exercise #2 - Create a Function that Prints All Key Value Pairs within a print .format()  <br>\n",
    " &nbsp;&nbsp;&nbsp;&nbsp; i) sorted() <br>\n",
    " &nbsp;&nbsp;&nbsp;&nbsp; j) Lists with Dictionaries <br>\n",
    " &nbsp;&nbsp;&nbsp;&nbsp; k) Dictionaries with Lists <br>\n",
    " &nbsp;&nbsp;&nbsp;&nbsp; l) Dictionaries with Dictionaries <br>\n",
    " &nbsp;&nbsp;&nbsp;&nbsp; ------ Exercise #3 - Write a Function that asks someone's name and address, and then stores that into a dictionary, which prints all names and addresses after they're done putting information in...  <br>\n",
    "2) Dictionaries vs. Lists (over time)<br>\n",
    "3) Set <br>\n",
    " &nbsp;&nbsp;&nbsp;&nbsp; a) Declaring <br>\n",
    " &nbsp;&nbsp;&nbsp;&nbsp; b) .add() <br>\n",
    " &nbsp;&nbsp;&nbsp;&nbsp; c) .remove() <br>\n",
    " &nbsp;&nbsp;&nbsp;&nbsp; d) .union() <br>\n",
    " &nbsp;&nbsp;&nbsp;&nbsp; e) .intersection() <br>\n",
    " &nbsp;&nbsp;&nbsp;&nbsp; f) .difference() <br>\n",
    " &nbsp;&nbsp;&nbsp;&nbsp; g) Frozen Set <br>\n",
    "4) Modules <br>\n",
    " &nbsp;&nbsp;&nbsp;&nbsp; a) Importing Entire Modules <br>\n",
    " &nbsp;&nbsp;&nbsp;&nbsp; b) Importing Methods Only <br>\n",
    " &nbsp;&nbsp;&nbsp;&nbsp; c) Using the 'as' Keyword <br>\n",
    " &nbsp;&nbsp;&nbsp;&nbsp; d) Creating a Module <br>\n",
    "5) Exercises <br>\n",
    " &nbsp;&nbsp;&nbsp;&nbsp; a) Build a Shopping Cart <br>\n",
    " &nbsp;&nbsp;&nbsp;&nbsp; b) Create Your Own Module <br>"
   ]
  },
  {
   "cell_type": "markdown",
   "metadata": {
    "id": "WpN9NLR-tkyB"
   },
   "source": [
    "## Dictionary <br>\n",
    "<p>A collection of data with 'key:value' pairs. Dictionaries are ordered as of Python 3.6</p>"
   ]
  },
  {
   "cell_type": "markdown",
   "metadata": {
    "id": "FE6o-BdAtkyC"
   },
   "source": [
    "##### Declaring (key, value)"
   ]
  },
  {
   "cell_type": "code",
   "execution_count": null,
   "metadata": {
    "id": "QBuYirAgtkyC"
   },
   "outputs": [],
   "source": [
    "# keys should be unique\n",
    "# can use numbers or strings as keys\n",
    "\n",
    "d_1 = {}\n",
    "\n",
    "# OR \n",
    "\n",
    "d_2 = dict()\n",
    "\n",
    "# OR \n",
    "\n",
    "d_3 = {\n",
    "    'dave': '255 Main Street',\n",
    "    'sean': '522 1st Street',\n",
    "    0: \"This is a value for the key of 0\"\n",
    "}"
   ]
  },
  {
   "cell_type": "markdown",
   "metadata": {
    "id": "Sryp6ya9tkyE"
   },
   "source": [
    "##### Accessing Values"
   ]
  },
  {
   "cell_type": "code",
   "execution_count": null,
   "metadata": {
    "id": "OE-XnHcutkyF",
    "outputId": "fbfec701-a420-417a-c43d-2dffa5092462"
   },
   "outputs": [
    {
     "data": {
      "text/plain": [
       "'This is a value for the key of 0'"
      ]
     },
     "execution_count": 4,
     "metadata": {},
     "output_type": "execute_result"
    }
   ],
   "source": [
    "# dict[key]\n",
    "\n",
    "d_3['dave']\n",
    "\n",
    "d_3[0]"
   ]
  },
  {
   "cell_type": "markdown",
   "metadata": {
    "id": "bKzCusj9tkyH"
   },
   "source": [
    "## In-Class Exercise #1 - Print a formatted statement from the dictionary below <br>\n",
    "<p>The output should be '2018 Chevrolet Silverado'</p>"
   ]
  },
  {
   "cell_type": "code",
   "execution_count": null,
   "metadata": {
    "id": "_sAQmOOytkyI",
    "outputId": "e91511e3-ac85-4201-de7c-2e65c72c4a35"
   },
   "outputs": [
    {
     "name": "stdout",
     "output_type": "stream",
     "text": [
      "My favorite car is a 2018 Chevrolet Silverado\n"
     ]
    }
   ],
   "source": [
    "# use the dict below\n",
    "truck = {\n",
    "    'year': 2018,\n",
    "    'make': 'Chevrolet',\n",
    "    'model': 'Silverado'\n",
    "}\n",
    "\n",
    "print(f\"My favorite car is a {truck['year']} {truck['make']} {truck['model']}\")\n"
   ]
  },
  {
   "cell_type": "markdown",
   "metadata": {
    "id": "LDXE44vHtkyK"
   },
   "source": [
    "##### Adding New Pairs"
   ]
  },
  {
   "cell_type": "code",
   "execution_count": null,
   "metadata": {
    "id": "HEfFRiyFtkyL",
    "outputId": "f423f15c-4015-4aad-fa3d-6955f6ede6d6"
   },
   "outputs": [
    {
     "data": {
      "text/plain": [
       "{'dave': '255 Main Street',\n",
       " 'sean': '522 1st Street',\n",
       " 0: 'This is a value for the key of 0',\n",
       " 'bob': '151 Main Street'}"
      ]
     },
     "execution_count": 8,
     "metadata": {},
     "output_type": "execute_result"
    }
   ],
   "source": [
    "# dict[key] = value\n",
    "\n",
    "d_3['bob'] = '151 Main Street'\n",
    "\n",
    "d_3"
   ]
  },
  {
   "cell_type": "markdown",
   "metadata": {
    "id": "JINLY2qGtkyL"
   },
   "source": [
    "##### Modifying Values"
   ]
  },
  {
   "cell_type": "code",
   "execution_count": null,
   "metadata": {
    "id": "H2fb1ydVtkyM",
    "outputId": "ac96a79e-aee7-41e9-cd02-90c6b9bbd79b"
   },
   "outputs": [
    {
     "data": {
      "text/plain": [
       "{'dave': '255 Main Street',\n",
       " 'sean': '522 1st Street',\n",
       " 0: 'This is a value for the key of 0',\n",
       " 'bob': '151 Main Street Chicago,IL'}"
      ]
     },
     "execution_count": 9,
     "metadata": {},
     "output_type": "execute_result"
    }
   ],
   "source": [
    "# dict[key] = value\n",
    "\n",
    "placeholder = d_3['bob']\n",
    "\n",
    "d_3['bob'] = placeholder + \" Chicago,IL\"\n",
    "#d_3['bob'] = d_3['bob'] + \" Chicago,IL\"\n",
    "\n",
    "d_3"
   ]
  },
  {
   "cell_type": "markdown",
   "metadata": {
    "id": "WeiLN5GEtkyM"
   },
   "source": [
    "##### Removing Key, Value Pairs"
   ]
  },
  {
   "cell_type": "code",
   "execution_count": null,
   "metadata": {
    "id": "JQiDdU-AtkyN",
    "outputId": "35f25764-c6f0-4a9c-8a0d-79c68bdacfa8"
   },
   "outputs": [
    {
     "data": {
      "text/plain": [
       "{'dave': '255 Main Street',\n",
       " 'sean': '522 1st Street',\n",
       " 0: 'This is a value for the key of 0'}"
      ]
     },
     "execution_count": 10,
     "metadata": {},
     "output_type": "execute_result"
    }
   ],
   "source": [
    "# del dict[key]\n",
    "\n",
    "del d_3['bob']\n",
    "\n",
    "d_3"
   ]
  },
  {
   "cell_type": "markdown",
   "metadata": {
    "id": "E_XuuKdptkyN"
   },
   "source": [
    "##### Looping a Dictionary"
   ]
  },
  {
   "cell_type": "code",
   "execution_count": null,
   "metadata": {
    "id": "pcaJnqF1tkyN",
    "outputId": "45da30ae-bbad-490d-cc00-72d5033cf4ca"
   },
   "outputs": [
    {
     "name": "stdout",
     "output_type": "stream",
     "text": [
      "dave 255 Main Street\n",
      "sean 522 1st Street\n",
      "0 This is a value for the key of 0\n"
     ]
    }
   ],
   "source": [
    "# .items()\n",
    "# a, b, c = 1, 2, 3\n",
    "# print(a)\n",
    "# print(b)\n",
    "# print(c)\n",
    "\n",
    "    \n",
    "# Correct way to access key and value pairs\n",
    "for key,value in d_3.items():\n",
    "    print(key,value)\n"
   ]
  },
  {
   "cell_type": "markdown",
   "metadata": {
    "id": "PQ23H2vJtkyO"
   },
   "source": [
    "##### Looping Only Keys"
   ]
  },
  {
   "cell_type": "code",
   "execution_count": null,
   "metadata": {
    "id": "mwSj3CnZtkyO",
    "outputId": "22b60815-61e7-4246-b94d-dcb6efc7e494"
   },
   "outputs": [
    {
     "name": "stdout",
     "output_type": "stream",
     "text": [
      "dave\n",
      "sean\n",
      "0\n"
     ]
    }
   ],
   "source": [
    "# .keys()\n",
    "\n",
    "\n",
    "# Access keys inside of dictionary with the built-in keys method\n",
    "for key in d_3.keys():\n",
    "    print(key)\n",
    "\n",
    "\n",
    "# Grabbing a dictionaries keys without a built-in method\n",
    "# for i in d_3:\n",
    "#     print(i)"
   ]
  },
  {
   "cell_type": "markdown",
   "metadata": {
    "id": "MBZlYQzVtkyO"
   },
   "source": [
    "##### Looping Only Values"
   ]
  },
  {
   "cell_type": "code",
   "execution_count": null,
   "metadata": {
    "id": "TBjtOjM5tkyP",
    "outputId": "a4989be5-d831-401e-e9d4-e9e180815666"
   },
   "outputs": [
    {
     "name": "stdout",
     "output_type": "stream",
     "text": [
      "255 Main Street\n",
      "522 1st Street\n",
      "This is a value for the key of 0\n"
     ]
    }
   ],
   "source": [
    "# .values()\n",
    "\n",
    "for value in d_3.values():\n",
    "    print(value)"
   ]
  },
  {
   "cell_type": "markdown",
   "metadata": {
    "id": "sXNEqY_PtkyP"
   },
   "source": [
    "## In-Class Exercise #2 - Create a Function that Prints All Key Value Pairs within a print .format() <br>\n",
    "<p><b>Output should be:</b><br>\n",
    "Max has blue eyes<br>\n",
    "Lilly has brown eyes<br>\n",
    "Barney has blue eyes<br>\n",
    "etc.\n",
    "</p>"
   ]
  },
  {
   "cell_type": "code",
   "execution_count": null,
   "metadata": {
    "id": "WycbNHQRtkyP",
    "outputId": "752849d7-5ba4-4fce-850e-ee1fc5f1a2ee"
   },
   "outputs": [
    {
     "name": "stdout",
     "output_type": "stream",
     "text": [
      "Max has blue eyes\n",
      "Lilly has brown eyes\n",
      "Barney has blue eyes\n",
      "Larney has brown eyes\n",
      "Ted has purple eyes\n"
     ]
    }
   ],
   "source": [
    "# use the dict below\n",
    "\n",
    "people = {\n",
    "    'Max': 'blue',\n",
    "    'Lilly': 'brown',\n",
    "    'Barney': 'blue',\n",
    "    'Larney': 'brown',\n",
    "    'Ted': 'purple'\n",
    "}\n",
    "\n",
    "def people():\n",
    "    for key,value in people.items():\n",
    "        print(f\"{key} has {value} eyes\")\n",
    "        \n",
    "people()\n"
   ]
  },
  {
   "cell_type": "markdown",
   "metadata": {
    "id": "eBfX4HIytkyQ"
   },
   "source": [
    "##### sorted()"
   ]
  },
  {
   "cell_type": "code",
   "execution_count": null,
   "metadata": {
    "id": "YXw_71-utkyQ",
    "outputId": "7afc3c4f-fb0c-4f76-a48e-cd0ca955cb7f"
   },
   "outputs": [
    {
     "name": "stdout",
     "output_type": "stream",
     "text": [
      "[('Barney', 'blue'), ('Larney', 'brown'), ('Lilly', 'brown'), ('Max', 'blue'), ('Ted', 'purple')]\n",
      "['Barney', 'Larney', 'Lilly', 'Max', 'Ted']\n",
      "['blue', 'blue', 'brown', 'brown', 'purple']\n"
     ]
    }
   ],
   "source": [
    "# sorts variables in order\n",
    "# sorted(dict.values()) or dict.keys() or dict.items()\n",
    "\n",
    "\n",
    "print(sorted(people.items()))\n",
    "print(sorted(people.keys()))\n",
    "print(sorted(people.values()))\n",
    "\n",
    "\n"
   ]
  },
  {
   "cell_type": "markdown",
   "metadata": {
    "id": "iydsJ6wttkyR"
   },
   "source": [
    "##### List with Dictionaries"
   ]
  },
  {
   "cell_type": "code",
   "execution_count": null,
   "metadata": {
    "id": "KSmaQj9AtkyR",
    "outputId": "38d9012a-0812-41e0-9276-c11a2a3e6e72"
   },
   "outputs": [
    {
     "name": "stdout",
     "output_type": "stream",
     "text": [
      "Barbara\n",
      "random_guy\n",
      "random_girl\n"
     ]
    }
   ],
   "source": [
    "names = [\"Dave\",\"Randy\",\"Greg\",{\"random_guy\":\"Robert\", \"random_girl\":\"Barbara\"}]\n",
    "\n",
    "print(names[3]['random_girl'])\n",
    "\n",
    "# Get all keys from nested dictionary in a list\n",
    "for keys in names[3].keys():\n",
    "    print(keys)"
   ]
  },
  {
   "cell_type": "markdown",
   "metadata": {
    "id": "dLJlNXNRtkyR"
   },
   "source": [
    "##### Dictionaries with Lists"
   ]
  },
  {
   "cell_type": "code",
   "execution_count": null,
   "metadata": {
    "id": "LAESm7mvtkyS",
    "outputId": "80506949-4e40-4f8b-84e7-2ff3a21edb39"
   },
   "outputs": [
    {
     "name": "stdout",
     "output_type": "stream",
     "text": [
      "smith\n",
      "smith\n"
     ]
    }
   ],
   "source": [
    "# be careful when using numbers as keys in dictionaries, don't confuse them with indexes\n",
    "random_data = {\n",
    "    'list1': [54,7,11],\n",
    "    \"2\":['smith']\n",
    "}\n",
    "\n",
    "for key in random_data['2']:\n",
    "    print(key)\n",
    "    \n",
    "print(random_data['2'][0])"
   ]
  },
  {
   "cell_type": "markdown",
   "metadata": {
    "id": "6a4VbpNRtkyS"
   },
   "source": [
    "##### Dictionaries with Dictionaries"
   ]
  },
  {
   "cell_type": "code",
   "execution_count": null,
   "metadata": {
    "id": "Ox0rBuXDtkyS",
    "outputId": "3d953d92-52f2-4236-c03b-20204b333b4d"
   },
   "outputs": [
    {
     "name": "stdout",
     "output_type": "stream",
     "text": [
      "2.99\n"
     ]
    }
   ],
   "source": [
    "# to get values, must traverse through keys\n",
    "food_dict = {\n",
    "    \"ice_cream\":{\n",
    "        \"CHO\": 2.99,\n",
    "        \"VA\": 3.99,\n",
    "        \"Oreo\": 5.99\n",
    "    }\n",
    "}\n",
    "\n",
    "print(food_dict['ice_cream']['CHO'])"
   ]
  },
  {
   "cell_type": "markdown",
   "metadata": {
    "id": "qLcuftHjtkyS"
   },
   "source": [
    "## Dictionaries vs. Lists (over time) Example of RUNTIME\n",
    "### When inputting values in a Dictionary vs List"
   ]
  },
  {
   "cell_type": "code",
   "execution_count": null,
   "metadata": {
    "id": "xM0KJsyHtkyT"
   },
   "outputs": [],
   "source": [
    "import time\n",
    "\n",
    "\n",
    "# generate fake dictionary\n",
    "d = {}\n",
    "\n",
    "for i in range(10000000):\n",
    "    d[i] = 'value'\n",
    "    \n",
    "\n",
    "# generate fake list\n",
    "big_list = [x for x in range(10000000)]"
   ]
  },
  {
   "cell_type": "code",
   "execution_count": null,
   "metadata": {
    "id": "A6yUJh-wtkyT",
    "outputId": "d4309011-d68d-4ba2-e13d-bf9213687ad4"
   },
   "outputs": [
    {
     "name": "stdout",
     "output_type": "stream",
     "text": [
      "value\n",
      "Elapsed time for dictionary: 0.0\n",
      "9999999\n",
      "Elapsed time for list: 0.6332945823669434\n"
     ]
    }
   ],
   "source": [
    "# tracking time for dictionary\n",
    "start_time = time.time()\n",
    "\n",
    "print(d[9999999])\n",
    "\n",
    "end_time = time.time() - start_time\n",
    "\n",
    "print('Elapsed time for dictionary: {}'.format(end_time))\n",
    "\n",
    "\n",
    "# tracking time for list\n",
    "start_time = time.time()\n",
    "\n",
    "for i in range(len(big_list)):\n",
    "    if i == 9999999:\n",
    "        print(i)\n",
    "\n",
    "end_time = time.time() - start_time\n",
    "\n",
    "print('Elapsed time for list: {}'.format(end_time))"
   ]
  },
  {
   "cell_type": "markdown",
   "metadata": {
    "id": "CmcdSTb0tkyT"
   },
   "source": [
    "## Exercise #3 - Write a Function that asks someone's name and address, and then stores that into a dictionary, and continues to do so until they choose to 'quit'. Once they quit, the program should print all names and addresses. <br>\n",
    "<p>\n",
    "<b>Proper steps:</b><br>\n",
    "step 1: write a function that takes in information and stores it in a dictionary<br>\n",
    "step 2: define an empty dictionary to work with<br>\n",
    "step 3: create our loop, which asks the user for information until they quit<br>\n",
    "step 4: ask for the information, and store it into variables<br>\n",
    "step 5: check if the user types quit<br>\n",
    "step 5a: print out all information<br>\n",
    "step 5b: break out of the loop<br>\n",
    "step 6: if they didn't quit, add the information to the dictionary<br>\n",
    "step 7: invoke the function by calling it\n",
    "</p>"
   ]
  },
  {
   "cell_type": "code",
   "execution_count": null,
   "metadata": {
    "id": "vmpJoD07tkyT",
    "outputId": "ae2c6966-4c99-415b-bb19-6dd75315f401"
   },
   "outputs": [
    {
     "name": "stdout",
     "output_type": "stream",
     "text": [
      "The Address for Bret is 333 Cirle Dr\n",
      "The Address for Greg is 123 Pine Dr\n"
     ]
    }
   ],
   "source": [
    "from IPython.display import clear_output\n",
    "\n",
    "#Step 1\n",
    "def storeInfo():\n",
    "    d = {} # Step 2\n",
    "    \n",
    "    # Step 3\n",
    "    while True:\n",
    "        # Step 4\n",
    "        name = input(\"Enter a name to be stored or say 'quit': \")\n",
    "        address = input(\"Enter an address to be stored or say 'quit': \")\n",
    "        clear_output()\n",
    "        \n",
    "        #Step 5\n",
    "        if name.lower() == 'quit' and address.lower() == 'quit':\n",
    "            #Step 5a\n",
    "            for key,value in d.items():\n",
    "                print(f\"The Address for {key} is {value}\")\n",
    "            break #Step 5b\n",
    "        d[name] = address # Apart of Step 4 & Step 6\n",
    "storeInfo() # Step 7\n"
   ]
  },
  {
   "cell_type": "markdown",
   "metadata": {
    "id": "LFv5HdFLtkyU"
   },
   "source": [
    "## Set <br>\n",
    "<p>A Set is an unordered collection data type that is iterable (loop), mutable, and has no duplicate elements.<br>Major advantage is that it is highly optimized in checking if something is in the set, as opposed to checking if something is in a list.</p>"
   ]
  },
  {
   "cell_type": "markdown",
   "metadata": {
    "id": "320mXOtOtkyU"
   },
   "source": [
    "##### Declaring"
   ]
  },
  {
   "cell_type": "code",
   "execution_count": null,
   "metadata": {
    "id": "0ubJ6ywttkyU",
    "outputId": "d51d1008-ed86-4638-9b02-de9c31eaefa5"
   },
   "outputs": [
    {
     "name": "stdout",
     "output_type": "stream",
     "text": [
      "{1, 4, 6}\n"
     ]
    }
   ],
   "source": [
    "# set() or {}\n",
    "# no order {3, 2, 1} outputs as {1, 2, 3}\n",
    "nums = {4,1,6,4}\n",
    "\n",
    "print(nums)"
   ]
  },
  {
   "cell_type": "markdown",
   "metadata": {
    "id": "jpl0oOsVtkyU"
   },
   "source": [
    "##### .add()"
   ]
  },
  {
   "cell_type": "code",
   "execution_count": null,
   "metadata": {
    "id": "WJVSxULWtkyV",
    "outputId": "2892ca2a-5fcb-43b8-c5fe-4071f7733f51"
   },
   "outputs": [
    {
     "name": "stdout",
     "output_type": "stream",
     "text": [
      "{56, 1, 4, 6}\n"
     ]
    }
   ],
   "source": [
    "# set.add()\n",
    "nums.add(56)\n",
    "\n",
    "print(nums)"
   ]
  },
  {
   "cell_type": "markdown",
   "metadata": {
    "id": "wDZRUd6atkyV"
   },
   "source": [
    "##### .remove()"
   ]
  },
  {
   "cell_type": "code",
   "execution_count": null,
   "metadata": {
    "id": "b9z8ItLmtkyV",
    "outputId": "a2bb4a7c-78e0-4f54-8dba-227e0f134e49"
   },
   "outputs": [
    {
     "name": "stdout",
     "output_type": "stream",
     "text": [
      "{1, 4, 6}\n"
     ]
    }
   ],
   "source": [
    "# removes by value\n",
    "# set.remove()\n",
    "# nums.remove(56)\n",
    "\n",
    "nums.remove(56)\n",
    "\n",
    "print(nums)"
   ]
  },
  {
   "cell_type": "markdown",
   "metadata": {
    "id": "WCnks_5XtkyV"
   },
   "source": [
    "##### .union() "
   ]
  },
  {
   "cell_type": "code",
   "execution_count": null,
   "metadata": {
    "id": "_H5wFuMBtkyV",
    "outputId": "4aefa229-8b10-48f7-b575-d7d0899cc17c"
   },
   "outputs": [
    {
     "name": "stdout",
     "output_type": "stream",
     "text": [
      "{1, 2, 3, 4, 5, 6}\n",
      "{1, 2, 3, 4, 5, 6}\n"
     ]
    }
   ],
   "source": [
    "# Returns a union of two sets, can also use '|' or set.union(set)\n",
    "# joins all numbers, gets rid of duplicates\n",
    "s1 = {1,2,3,4}\n",
    "s2 = {3,4,5,6}\n",
    "\n",
    "s3 = s1.union(s2)\n",
    "\n",
    "# OR\n",
    "\n",
    "s4 = s1 | s2\n",
    "\n",
    "print(s3)\n",
    "print(s4)"
   ]
  },
  {
   "cell_type": "markdown",
   "metadata": {
    "id": "mQH9McXMtkyW"
   },
   "source": [
    "##### .intersection()"
   ]
  },
  {
   "cell_type": "code",
   "execution_count": null,
   "metadata": {
    "id": "IteHNeQztkyW",
    "outputId": "3fca768c-97ee-48ea-8181-8d2fcc9a8739"
   },
   "outputs": [
    {
     "name": "stdout",
     "output_type": "stream",
     "text": [
      "{3, 4}\n",
      "{3, 4}\n"
     ]
    }
   ],
   "source": [
    "# Returns an intersection of two sets, can also use '&'\n",
    "# only takes similar elements from both sets\n",
    "s5 = s2 & s1\n",
    "\n",
    "s6 = s1.intersection(s2)\n",
    "\n",
    "print(s5)\n",
    "print(s6)\n"
   ]
  },
  {
   "cell_type": "markdown",
   "metadata": {
    "id": "1syJoVyKtkyW"
   },
   "source": [
    "##### .difference()"
   ]
  },
  {
   "cell_type": "code",
   "execution_count": null,
   "metadata": {
    "id": "wr2kzCYKtkyW",
    "outputId": "f98b0cae-7d12-47b3-ff52-a09c397a3792"
   },
   "outputs": [
    {
     "name": "stdout",
     "output_type": "stream",
     "text": [
      "{1, 2, 3, 4}\n",
      "{3, 4, 5, 6}\n",
      "{5, 6}\n",
      "{1, 2}\n"
     ]
    }
   ],
   "source": [
    "# Returns a set containing all the elements of invoking set that are not in the second set, can also use '-'\n",
    "# only takes values from the first set that are not in the second set\n",
    "# order matters\n",
    "s7 = s2 - s1\n",
    "\n",
    "# OR\n",
    "\n",
    "s8 = s1.difference(s2)\n",
    "\n",
    "print(s1)\n",
    "print(s2)\n",
    "print(s7)\n",
    "print(s8)\n"
   ]
  },
  {
   "cell_type": "markdown",
   "metadata": {
    "id": "26TWgG-RtkyW"
   },
   "source": [
    "##### .clear()"
   ]
  },
  {
   "cell_type": "code",
   "execution_count": null,
   "metadata": {
    "id": "7B1RcfdqtkyW",
    "outputId": "43fac56a-0a99-4fb6-fae8-da74962680e4"
   },
   "outputs": [
    {
     "name": "stdout",
     "output_type": "stream",
     "text": [
      "set()\n"
     ]
    }
   ],
   "source": [
    "# Empties the whole set\n",
    "# set.clear()\n",
    "s8.clear()\n",
    "\n",
    "print(s8)"
   ]
  },
  {
   "cell_type": "markdown",
   "metadata": {
    "id": "HGvSTp0xtkyX"
   },
   "source": [
    "##### Frozenset <br>\n",
    "<p>Frozen sets are immutable objects that only support methods and operators that produce a result without affecting the frozen set or sets to which they are applied.</p><br><b>Unique & Immutable</b>"
   ]
  },
  {
   "cell_type": "code",
   "execution_count": null,
   "metadata": {
    "id": "BjRR5Y_1tkyX",
    "outputId": "1ee963d2-9794-45bd-94a2-1fa3448832a3"
   },
   "outputs": [
    {
     "name": "stdout",
     "output_type": "stream",
     "text": [
      "frozenset({1, 2, 3, 4, 5, 6})\n"
     ]
    },
    {
     "ename": "AttributeError",
     "evalue": "'frozenset' object has no attribute 'add'",
     "output_type": "error",
     "traceback": [
      "\u001b[1;31m---------------------------------------------------------------------------\u001b[0m",
      "\u001b[1;31mAttributeError\u001b[0m                            Traceback (most recent call last)",
      "\u001b[1;32m<ipython-input-71-9391079357c6>\u001b[0m in \u001b[0;36m<module>\u001b[1;34m\u001b[0m\n\u001b[0;32m      4\u001b[0m \u001b[0mprint\u001b[0m\u001b[1;33m(\u001b[0m\u001b[0mmy_frozen_set\u001b[0m\u001b[1;33m)\u001b[0m\u001b[1;33m\u001b[0m\u001b[1;33m\u001b[0m\u001b[0m\n\u001b[0;32m      5\u001b[0m \u001b[1;33m\u001b[0m\u001b[0m\n\u001b[1;32m----> 6\u001b[1;33m \u001b[0mmy_frozen_set\u001b[0m\u001b[1;33m.\u001b[0m\u001b[0madd\u001b[0m\u001b[1;33m(\u001b[0m\u001b[1;36m56\u001b[0m\u001b[1;33m)\u001b[0m\u001b[1;33m\u001b[0m\u001b[1;33m\u001b[0m\u001b[0m\n\u001b[0m",
      "\u001b[1;31mAttributeError\u001b[0m: 'frozenset' object has no attribute 'add'"
     ]
    }
   ],
   "source": [
    "# frozenset([])\n",
    "my_frozen_set = frozenset(s3)\n",
    "\n",
    "print(my_frozen_set)\n",
    "\n",
    "my_frozen_set.add(56)"
   ]
  },
  {
   "cell_type": "markdown",
   "metadata": {
    "id": "2gkFJyzytkyX"
   },
   "source": [
    "## Modules"
   ]
  },
  {
   "cell_type": "markdown",
   "metadata": {
    "id": "7b--YJXntkyX"
   },
   "source": [
    "##### Importing Entire Modules"
   ]
  },
  {
   "cell_type": "code",
   "execution_count": null,
   "metadata": {
    "id": "j7dC0ozitkyX",
    "outputId": "0eadf679-8fe8-4e0f-e316-b07b9b305033"
   },
   "outputs": [
    {
     "name": "stdout",
     "output_type": "stream",
     "text": [
      "3.141592653589793\n",
      "3\n"
     ]
    }
   ],
   "source": [
    "# import or from 'xxx' import *\n",
    "# import math\n",
    "import math\n",
    "\n",
    "print(math.pi)\n",
    "print(math.floor(math.pi))\n"
   ]
  },
  {
   "cell_type": "markdown",
   "metadata": {
    "id": "LUt8aR3etkyX"
   },
   "source": [
    "##### Importing Methods Only"
   ]
  },
  {
   "cell_type": "code",
   "execution_count": null,
   "metadata": {
    "id": "FzWTJcZjtkyY",
    "outputId": "83455281-72a1-4a31-e13f-0f2166eb41c1"
   },
   "outputs": [
    {
     "name": "stdout",
     "output_type": "stream",
     "text": [
      "3.141592653589793\n",
      "3\n"
     ]
    }
   ],
   "source": [
    "# from 'xxx' import 'xxx'\n",
    "# from math import floor\n",
    "from math import floor,pi\n",
    "\n",
    "print(pi)\n",
    "print(floor(pi))\n",
    "\n"
   ]
  },
  {
   "cell_type": "markdown",
   "metadata": {
    "id": "Jt5jNmc0tkyY"
   },
   "source": [
    "##### Using the 'as' Keyword"
   ]
  },
  {
   "cell_type": "code",
   "execution_count": null,
   "metadata": {
    "id": "dshHluZYtkyY",
    "outputId": "004549f8-5da0-41ba-ac37-5923d5a4fae7"
   },
   "outputs": [
    {
     "name": "stdout",
     "output_type": "stream",
     "text": [
      "3.141592653589793\n",
      "3\n"
     ]
    }
   ],
   "source": [
    "# from 'xxx' import 'xxx' as 'xxx' or import 'xxx' as 'xxx'\n",
    "# from math import floor as f\n",
    "from math import floor as f, pi as p\n",
    "\n",
    "print(p)\n",
    "print(f(p))"
   ]
  },
  {
   "cell_type": "markdown",
   "metadata": {
    "id": "t8W7RQnCtkyY"
   },
   "source": [
    "##### Creating a Module"
   ]
  },
  {
   "cell_type": "code",
   "execution_count": null,
   "metadata": {
    "id": "3z5o0SV3tkyY",
    "outputId": "f1c8efa6-a243-4a93-a1fe-8f675ad53a32"
   },
   "outputs": [
    {
     "name": "stdout",
     "output_type": "stream",
     "text": [
      "Hello Mr/Ms Joel...we've been waiting for you!\n",
      "None\n"
     ]
    }
   ],
   "source": [
    "import module\n",
    "\n",
    "print(module.printName('Joel'))"
   ]
  },
  {
   "cell_type": "markdown",
   "metadata": {
    "id": "rnVCYaWNtkyZ"
   },
   "source": [
    "# Exercises"
   ]
  },
  {
   "cell_type": "markdown",
   "metadata": {
    "id": "PMNQ6dI9tkyZ"
   },
   "source": [
    "### 1) Build a Shopping Cart <br>\n",
    "<p><b>You can use either lists or dictionaries. The program should have the following capabilities:</b><br><br>\n",
    "1) Takes in input <br>\n",
    "2) Stores user input into a dictionary or list <br>\n",
    "3) The User can add or delete items <br>\n",
    "4) The User can see current shopping list <br>\n",
    "5) The program Loops until user 'quits' <br>\n",
    "6) Upon quiting the program, print out all items in the user's list <br>\n",
    "</p>"
   ]
  },
  {
   "cell_type": "code",
   "execution_count": null,
   "metadata": {
    "id": "_WFgS4YKtkyZ"
   },
   "outputs": [],
   "source": [
    "from IPython.display import clear_output\n",
    "\n",
    "# Ask the user 5 bits of input: Do you want to : Show/Add/Delete/clear or Quit?\n"
   ]
  },
  {
   "cell_type": "markdown",
   "metadata": {
    "id": "OFmdSk4JtkyZ"
   },
   "source": [
    "### 2) Create a Module in VS Code and Import It into jupyter notebook <br>\n",
    "<p><b>Module should have the following capabilities:</b><br><br>\n",
    "1) Has a function to calculate the square footage of a house <br>\n",
    "    <b>Reminder of Formula: Length X Width == Area<br>\n",
    "        <hr>\n",
    "2) Has a function to calculate the circumference of a circle <br><br>\n",
    "<b>Program in Jupyter Notebook should take in user input and use imported functions to calculate a circle's circumference or a houses square footage</b>\n",
    "</p>"
   ]
  },
  {
   "cell_type": "code",
   "execution_count": null,
   "metadata": {
    "id": "q9dOkQZStkyZ"
   },
   "outputs": [],
   "source": []
  }
 ],
 "metadata": {
  "colab": {
   "collapsed_sections": [
    "sXNEqY_PtkyP",
    "qLcuftHjtkyS",
    "CmcdSTb0tkyT",
    "LFv5HdFLtkyU",
    "2gkFJyzytkyX",
    "PMNQ6dI9tkyZ",
    "OFmdSk4JtkyZ"
   ],
   "name": "Wednesday_Lesson_Inclass-Updated-Lecture-Updated2021.ipynb",
   "provenance": []
  },
  "kernelspec": {
   "display_name": "Python 3 (ipykernel)",
   "language": "python",
   "name": "python3"
  },
  "language_info": {
   "codemirror_mode": {
    "name": "ipython",
    "version": 3
   },
   "file_extension": ".py",
   "mimetype": "text/x-python",
   "name": "python",
   "nbconvert_exporter": "python",
   "pygments_lexer": "ipython3",
   "version": "3.9.5"
  }
 },
 "nbformat": 4,
 "nbformat_minor": 1
}
