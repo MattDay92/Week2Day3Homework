{
 "cells": [
  {
   "cell_type": "markdown",
   "metadata": {},
   "source": [
    "# Data Collections 2 (Dictionaries, Sets) and Importing Modules"
   ]
  },
  {
   "cell_type": "markdown",
   "metadata": {},
   "source": [
    "## Tasks Today:\n",
    "\n",
    "1) Dictionary <br>\n",
    " &nbsp;&nbsp;&nbsp;&nbsp; a) Declaring (key, value) <br>\n",
    " &nbsp;&nbsp;&nbsp;&nbsp; b) Accessing Values <br>\n",
    " &nbsp;&nbsp;&nbsp;&nbsp; ------ Exercise #1 - Print the eye color of each person in a double nested dict <br>\n",
    " &nbsp;&nbsp;&nbsp;&nbsp; c) Adding New Pairs <br>\n",
    " &nbsp;&nbsp;&nbsp;&nbsp; d) Modifying Values <br>\n",
    " &nbsp;&nbsp;&nbsp;&nbsp; e) Removing Key, Value Pairs <br>\n",
    " &nbsp;&nbsp;&nbsp;&nbsp; f) Looping a Dictionary <br>\n",
    " &nbsp;&nbsp;&nbsp;&nbsp; g) Looping Only Keys <br>\n",
    " &nbsp;&nbsp;&nbsp;&nbsp; h) Looping Only Values <br>\n",
    " &nbsp;&nbsp;&nbsp;&nbsp; ------ Exercise #2 - Create a Function that Prints All Key Value Pairs within a print .format()  <br>\n",
    " &nbsp;&nbsp;&nbsp;&nbsp; i) sorted() <br>\n",
    " &nbsp;&nbsp;&nbsp;&nbsp; j) Lists with Dictionaries <br>\n",
    " &nbsp;&nbsp;&nbsp;&nbsp; k) Dictionaries with Lists <br>\n",
    " &nbsp;&nbsp;&nbsp;&nbsp; l) Dictionaries with Dictionaries <br>\n",
    " &nbsp;&nbsp;&nbsp;&nbsp; ------ Exercise #3 - Write a Function that asks someone's name and address, and then stores that into a dictionary, which prints all names and addresses after they're done putting information in...  <br>\n",
    "2) Dictionaries vs. Lists (over time)<br>\n",
    "3) Set <br>\n",
    " &nbsp;&nbsp;&nbsp;&nbsp; a) Declaring <br>\n",
    " &nbsp;&nbsp;&nbsp;&nbsp; b) .add() <br>\n",
    " &nbsp;&nbsp;&nbsp;&nbsp; c) .remove() <br>\n",
    " &nbsp;&nbsp;&nbsp;&nbsp; d) .union() <br>\n",
    " &nbsp;&nbsp;&nbsp;&nbsp; e) .intersection() <br>\n",
    " &nbsp;&nbsp;&nbsp;&nbsp; f) .difference() <br>\n",
    " &nbsp;&nbsp;&nbsp;&nbsp; g) Frozen Set <br>\n",
    "4) Modules <br>\n",
    " &nbsp;&nbsp;&nbsp;&nbsp; a) Importing Entire Modules <br>\n",
    " &nbsp;&nbsp;&nbsp;&nbsp; b) Importing Methods Only <br>\n",
    " &nbsp;&nbsp;&nbsp;&nbsp; c) Using the 'as' Keyword <br>\n",
    " &nbsp;&nbsp;&nbsp;&nbsp; d) Creating a Module <br>\n",
    "5) Exercises <br>\n",
    " &nbsp;&nbsp;&nbsp;&nbsp; a) Build a Shopping Cart <br>\n",
    " &nbsp;&nbsp;&nbsp;&nbsp; b) Create Your Own Module <br>"
   ]
  },
  {
   "cell_type": "markdown",
   "metadata": {},
   "source": [
    "## Dictionary <br>\n",
    "<p>A collection of data with 'key:value' pairs. Dictionaries are ordered as of Python 3.6</p>"
   ]
  },
  {
   "cell_type": "markdown",
   "metadata": {},
   "source": [
    "##### Declaring (key, value)"
   ]
  },
  {
   "cell_type": "code",
   "execution_count": 3,
   "metadata": {},
   "outputs": [
    {
     "name": "stdout",
     "output_type": "stream",
     "text": [
      "{}\n",
      "<class 'dict'>\n",
      "{}\n",
      "{'camera': 'a device for taking pictures', 'shoha grades': [5, 5, 5], 'bag': {'wallet': 500}, 5: 'idk'}\n"
     ]
    }
   ],
   "source": [
    "d1 = {}\n",
    "print(d1)\n",
    "print(type(d1))\n",
    "\n",
    "d2 = dict()\n",
    "print(d2)\n",
    "\n",
    "d3 = {\n",
    "    'camera': 'a device for taking pictures',\n",
    "    'shoha grades': [5, 5, 5],\n",
    "    'bag': {'wallet': 500},\n",
    "    5: 'idk'\n",
    "}\n",
    "\n",
    "print(d3)"
   ]
  },
  {
   "cell_type": "markdown",
   "metadata": {},
   "source": [
    "##### Accessing Values"
   ]
  },
  {
   "cell_type": "code",
   "execution_count": 8,
   "metadata": {},
   "outputs": [
    {
     "name": "stdout",
     "output_type": "stream",
     "text": [
      "a device for taking pictures\n",
      "5\n",
      "500\n"
     ]
    }
   ],
   "source": [
    "# We use bracket notation to access values in a dictionary\n",
    "# Dictionaires DO NOT have indexes\n",
    "\n",
    "print(d3['camera'])\n",
    "# since this is a list - I can grab an index from that list\n",
    "print(d3['shoha grades'][1])\n",
    "\n",
    "# since the value of bag is a dictionary as well, we can grab a value from it\n",
    "# by adding a 2nd set of brackets with a key\n",
    "print(d3['bag']['wallet'])\n",
    "\n",
    "# psuedo-ordered (order of insertion)\n",
    "# not indexable\n",
    "# iterable\n",
    "# mutable"
   ]
  },
  {
   "cell_type": "markdown",
   "metadata": {},
   "source": [
    "## In-Class Exercise #1 - Print a formatted statement from the dictionary below <br>\n",
    "<p>The output should be '2018 Chevrolet Silverado'</p>"
   ]
  },
  {
   "cell_type": "code",
   "execution_count": 18,
   "metadata": {},
   "outputs": [
    {
     "name": "stdout",
     "output_type": "stream",
     "text": [
      "2018 Chevrolet Silverado\n"
     ]
    }
   ],
   "source": [
    "# use the dict below\n",
    "truck = {\n",
    "    'year': 2018,\n",
    "    'make': 'Chevrolet',\n",
    "    'model': 'Silverado'\n",
    "}\n",
    "\n",
    "# Use curly braces to access the values from the dictionary within an f string\n",
    "print(f\"{truck['year']} {truck['make']} {truck['model']}\")"
   ]
  },
  {
   "cell_type": "markdown",
   "metadata": {},
   "source": [
    "##### Adding New Pairs"
   ]
  },
  {
   "cell_type": "code",
   "execution_count": 24,
   "metadata": {},
   "outputs": [
    {
     "name": "stdout",
     "output_type": "stream",
     "text": [
      "{'camera': 'a device for taking pictures', 'shoha grades': [5, 5, 5], 'bag': {'wallet': 500}, 5: 'idk', 'brandt': '123 Fake Street'}\n"
     ]
    }
   ],
   "source": [
    "#    key           value\n",
    "d3['brandt'] = '123 Fake Street'\n",
    "\n",
    "print(d3)"
   ]
  },
  {
   "cell_type": "markdown",
   "metadata": {},
   "source": [
    "##### Modifying Values"
   ]
  },
  {
   "cell_type": "code",
   "execution_count": 26,
   "metadata": {},
   "outputs": [
    {
     "name": "stdout",
     "output_type": "stream",
     "text": [
      "{'camera': 'a device for taking pictures', 'shoha grades': [5, 5, 5], 'bag': {'wallet': 500}, 5: 'idk', 'brandt': '321 Real St'}\n"
     ]
    }
   ],
   "source": [
    "#    key         new value\n",
    "d3['brandt'] = '321 Real St'\n",
    "\n",
    "print(d3)"
   ]
  },
  {
   "cell_type": "markdown",
   "metadata": {},
   "source": [
    "##### Removing Key, Value Pairs"
   ]
  },
  {
   "cell_type": "code",
   "execution_count": 27,
   "metadata": {},
   "outputs": [
    {
     "name": "stdout",
     "output_type": "stream",
     "text": [
      "{'camera': 'a device for taking pictures', 'shoha grades': [5, 5, 5], 'bag': {'wallet': 500}, 'brandt': '321 Real St'}\n"
     ]
    }
   ],
   "source": [
    "# permanently removes the key of '5'\n",
    "del d3[5]\n",
    "\n",
    "print(d3)"
   ]
  },
  {
   "cell_type": "markdown",
   "metadata": {},
   "source": [
    "##### Looping a Dictionary"
   ]
  },
  {
   "cell_type": "code",
   "execution_count": 38,
   "metadata": {},
   "outputs": [
    {
     "name": "stdout",
     "output_type": "stream",
     "text": [
      "<class 'dict_items'>\n",
      "dict_items([('a', 1), ('b', 2), ('c', 3)])\n",
      "('a', 1)\n",
      "('b', 2)\n",
      "('c', 3)\n",
      "a 1\n",
      "b 2\n",
      "c 3\n"
     ]
    }
   ],
   "source": [
    "# .items()\n",
    "# a, b, c = 1, 2, 3\n",
    "# print(a)\n",
    "# print(b)\n",
    "# print(c)\n",
    "\n",
    "print(type(d3.items()))\n",
    "\n",
    "d4 = {\n",
    "    'a': 1,\n",
    "    'b': 2,\n",
    "    'c': 3\n",
    "}\n",
    "\n",
    "# d4.items (dict_items) are tuples\n",
    "print(d4.items())\n",
    "\n",
    "for tup in d4.items():\n",
    "    print(tup)\n",
    "    \n",
    "# removes the tuples\n",
    "for key, val in d4.items():\n",
    "    print(key, val)"
   ]
  },
  {
   "cell_type": "markdown",
   "metadata": {},
   "source": [
    "##### Looping Only Keys"
   ]
  },
  {
   "cell_type": "code",
   "execution_count": 41,
   "metadata": {},
   "outputs": [
    {
     "name": "stdout",
     "output_type": "stream",
     "text": [
      "a\n",
      "b\n",
      "c\n",
      "a\n",
      "b\n",
      "c\n"
     ]
    }
   ],
   "source": [
    "# .keys()\n",
    "\n",
    "for key in d4:\n",
    "    print(key)\n",
    "\n",
    "#     this is pretty useless because of the default attributes of a dictionary\n",
    "for key in d4.keys():\n",
    "    print(key)\n",
    "\n"
   ]
  },
  {
   "cell_type": "markdown",
   "metadata": {},
   "source": [
    "##### Looping Only Values"
   ]
  },
  {
   "cell_type": "code",
   "execution_count": 42,
   "metadata": {},
   "outputs": [
    {
     "name": "stdout",
     "output_type": "stream",
     "text": [
      "1\n",
      "2\n",
      "3\n"
     ]
    }
   ],
   "source": [
    "# .values()\n",
    "\n",
    "# this is necessary if you want to loop through the values\n",
    "for value in d4.values():\n",
    "    print(value)"
   ]
  },
  {
   "cell_type": "markdown",
   "metadata": {},
   "source": [
    "## In-Class Exercise #2 - Create a Function that Prints All Key Value Pairs within a print .format() <br>\n",
    "<p><b>Output should be:</b><br>\n",
    "Max has blue eyes<br>\n",
    "Lilly has brown eyes<br>\n",
    "Barney has blue eyes<br>\n",
    "etc.\n",
    "</p>"
   ]
  },
  {
   "cell_type": "code",
   "execution_count": 49,
   "metadata": {},
   "outputs": [
    {
     "name": "stdout",
     "output_type": "stream",
     "text": [
      "Max has blue eyes\n",
      "Lilly has brown eyes\n",
      "Barney has blue eyes\n",
      "Larney has brown eyes\n",
      "Ted has purple eyes\n",
      "Max has blue eyes\n",
      "Lilly has brown eyes\n",
      "Barney has blue eyes\n",
      "Larney has brown eyes\n",
      "Ted has purple eyes\n",
      "camera has a device for taking pictures eyes\n",
      "shoha grades has [5, 5, 5] eyes\n",
      "bag has {'wallet': 500} eyes\n",
      "brandt has 321 Real St eyes\n"
     ]
    }
   ],
   "source": [
    "# use the dict below\n",
    "\n",
    "people = {\n",
    "    'Max': 'blue',\n",
    "    'Lilly': 'brown',\n",
    "    'Barney': 'blue',\n",
    "    'Larney': 'brown',\n",
    "    'Ted': 'purple'\n",
    "}\n",
    "\n",
    "def output(input):\n",
    "    for key, value in input.items():\n",
    "        print(f'{key} has {value} eyes')\n",
    "\n",
    "output(people)\n",
    "\n",
    "# for multiple dictionaires at once\n",
    "def output(*dictionaires):\n",
    "    for input in dictionaires:\n",
    "        for key, value in input.items():\n",
    "            print(f'{key} has {value} eyes')\n",
    "\n",
    "output(people, d3)\n"
   ]
  },
  {
   "cell_type": "markdown",
   "metadata": {},
   "source": [
    "##### sorted()"
   ]
  },
  {
   "cell_type": "code",
   "execution_count": 52,
   "metadata": {},
   "outputs": [
    {
     "data": {
      "text/plain": [
       "['blue', 'blue', 'brown', 'brown', 'purple']"
      ]
     },
     "execution_count": 52,
     "metadata": {},
     "output_type": "execute_result"
    }
   ],
   "source": [
    "# sorts variables in order\n",
    "# sorted(dict.values()) or dict.keys() or dict.items()\n",
    "\n",
    "# sorts in alphabetical order based on the keys\n",
    "sorted(people.items())\n",
    "sorted(people)\n",
    "sorted(people.values())"
   ]
  },
  {
   "cell_type": "markdown",
   "metadata": {},
   "source": [
    "##### List with Dictionaries"
   ]
  },
  {
   "cell_type": "code",
   "execution_count": 54,
   "metadata": {},
   "outputs": [
    {
     "data": {
      "text/plain": [
       "'Brandt'"
      ]
     },
     "execution_count": 54,
     "metadata": {},
     "output_type": "execute_result"
    }
   ],
   "source": [
    "guests = [\n",
    "    {'name':'Shoha', 'age': 900, 'dietary_restrictions':[None]},\n",
    "    {'name':'Brandt', 'age': 901, 'dietary_restrictions':['peanuts']}\n",
    "]\n",
    "\n",
    "guests.append({'name':'Aubrey', 'age': 26, 'dietary_restrictions':[None]})\n",
    "\n",
    "guests[1]['name']"
   ]
  },
  {
   "cell_type": "markdown",
   "metadata": {},
   "source": [
    "##### Dictionaries with Lists"
   ]
  },
  {
   "cell_type": "code",
   "execution_count": null,
   "metadata": {},
   "outputs": [],
   "source": [
    "# be careful when using numbers as keys in dictionaries, don't confuse them with indexes\n"
   ]
  },
  {
   "cell_type": "markdown",
   "metadata": {},
   "source": [
    "##### Dictionaries with Dictionaries"
   ]
  },
  {
   "cell_type": "code",
   "execution_count": 56,
   "metadata": {},
   "outputs": [
    {
     "name": "stdout",
     "output_type": "stream",
     "text": [
      "This is the meats section:\n",
      "\n",
      "\tchicken costs $9.99\n",
      "\tbeef costs $8.99\n",
      "\tpork costs $10.99\n",
      "\n",
      "This is the milk section:\n",
      "\n",
      "\twhole costs $2.99\n",
      "\t5% costs $2.99\n",
      "\n"
     ]
    }
   ],
   "source": [
    "# to get values, must traverse through keys\n",
    "\n",
    "foods = {\n",
    "    'meats': {\n",
    "        'chicken': 9.99,\n",
    "        'beef': 8.99,\n",
    "        'pork': 10.99\n",
    "    },\n",
    "    'milk': {\n",
    "        'whole': 2.99,\n",
    "        '5%': 2.99\n",
    "    }\n",
    "}\n",
    "\n",
    "for category in foods:\n",
    "    print(f'This is the {category} section:\\n')\n",
    "    for food, price in foods[category].items():\n",
    "        print(f'\\t{food} costs ${price}')\n",
    "    print('')"
   ]
  },
  {
   "cell_type": "markdown",
   "metadata": {},
   "source": [
    "## Dictionaries vs. Lists (over time) Example of RUNTIME\n",
    "### When inputting values in a Dictionary vs List"
   ]
  },
  {
   "cell_type": "code",
   "execution_count": 57,
   "metadata": {},
   "outputs": [],
   "source": [
    "# package\n",
    "import time\n",
    "\n",
    "\n",
    "# generate fake dictionary\n",
    "d = {}\n",
    "\n",
    "for i in range(10000000):\n",
    "    d[i] = 'value'\n",
    "    \n",
    "\n",
    "# generate fake list\n",
    "big_list = [x for x in range(10000000)]"
   ]
  },
  {
   "cell_type": "code",
   "execution_count": 59,
   "metadata": {},
   "outputs": [
    {
     "name": "stdout",
     "output_type": "stream",
     "text": [
      "value\n",
      "Elapsed time for dictionary: 0.0004439353942871094\n",
      "9999999\n",
      "Elapsed time for list: 1.6440188884735107\n"
     ]
    }
   ],
   "source": [
    "# tracking time for dictionary\n",
    "start_time = time.time()\n",
    "\n",
    "print(d[9999999])\n",
    "\n",
    "end_time = time.time() - start_time\n",
    "\n",
    "print('Elapsed time for dictionary: {}'.format(end_time))\n",
    "\n",
    "\n",
    "# tracking time for list\n",
    "start_time = time.time()\n",
    "\n",
    "for i in range(len(big_list)):\n",
    "    if i == 9999999:\n",
    "        print(i)\n",
    "\n",
    "end_time = time.time() - start_time\n",
    "\n",
    "print('Elapsed time for list: {}'.format(end_time))"
   ]
  },
  {
   "cell_type": "markdown",
   "metadata": {},
   "source": [
    "## Exercise #3 - Write a Function that asks someone's name and address, and then stores that into a dictionary, and continues to do so until they choose to 'quit'. Once they quit, the program should print all names and addresses. <br>\n",
    "<p>\n",
    "<b>Proper steps:</b><br>\n",
    "step 1: write a function that takes in information and stores it in a dictionary<br>\n",
    "step 2: define an empty dictionary to work with<br>\n",
    "step 3: create our loop, which asks the user for information until they quit<br>\n",
    "step 4: ask for the information, and store it into variables<br>\n",
    "step 5: check if the user types quit<br>\n",
    "step 5a: print out all information<br>\n",
    "step 5b: break out of the loop<br>\n",
    "step 6: if they didn't quit, add the information to the dictionary<br>\n",
    "step 7: invoke the function by calling it\n",
    "</p>"
   ]
  },
  {
   "cell_type": "code",
   "execution_count": 76,
   "metadata": {},
   "outputs": [
    {
     "name": "stdout",
     "output_type": "stream",
     "text": [
      "What do you want to do? Add/Quit Add\n",
      "What is your name?  Matt\n",
      "What is your address?  123\n",
      "What do you want to do? Add/Quit Quit\n",
      "Thanks for using our phone book!\n",
      "These are your contacts: {'Matt': '123'}\n"
     ]
    },
    {
     "data": {
      "text/plain": [
       "{'Matt': '123'}"
      ]
     },
     "execution_count": 76,
     "metadata": {},
     "output_type": "execute_result"
    }
   ],
   "source": [
    "from IPython.display import clear_output\n",
    "\n",
    "def getAddressInfo():\n",
    "    d = {}\n",
    "    while True:\n",
    "        x = input('What do you want to do? Add/Quit ')\n",
    "        if x.lower() == 'quit':\n",
    "            print('Thanks for using our phone book!')\n",
    "            print(f'These are your contacts: {d}')\n",
    "            break\n",
    "        elif x.lower() == 'add': \n",
    "            name = input('What is your name?  ')\n",
    "            address = input('What is your address?  ')\n",
    "            d[name] = address\n",
    "        else:\n",
    "            print('Invalid option.  Please type Add or Quit.')\n",
    "    return d\n",
    "    \n",
    "    \n",
    "getAddressInfo()"
   ]
  },
  {
   "cell_type": "markdown",
   "metadata": {},
   "source": [
    "## Set <br>\n",
    "<p>A Set is an unordered collection data type that is iterable (loop), mutable, and has no duplicate elements.<br>Major advantage is that it is highly optimized in checking if something is in the set, as opposed to checking if something is in a list.</p>"
   ]
  },
  {
   "cell_type": "markdown",
   "metadata": {},
   "source": [
    "##### Declaring"
   ]
  },
  {
   "cell_type": "code",
   "execution_count": 78,
   "metadata": {},
   "outputs": [
    {
     "name": "stdout",
     "output_type": "stream",
     "text": [
      "{2, 3, 4, 5, 6, 7}\n",
      "<class 'set'>\n"
     ]
    }
   ],
   "source": [
    "# set() or {}\n",
    "# no order {3, 2, 1} outputs as {1, 2, 3}\n",
    "\n",
    "# curly braces (like dictionaires), BUT it's just a list of objects.  No colons.  \n",
    "nums = {2, 3, 3, 4, 7, 5, 2, 6, 4, 5, 6, 7}\n",
    "print(nums)\n",
    "\n",
    "# removes all of the duplicates\n",
    "\n",
    "# or you can use set() instead of {}.  Usually for empty sets that we can add to.  \n",
    "empty = set()\n",
    "print(type(empty))"
   ]
  },
  {
   "cell_type": "markdown",
   "metadata": {},
   "source": [
    "##### .add()"
   ]
  },
  {
   "cell_type": "code",
   "execution_count": 81,
   "metadata": {},
   "outputs": [
    {
     "name": "stdout",
     "output_type": "stream",
     "text": [
      "{1, 10, 100}\n",
      "{1, 10, 11, 100}\n"
     ]
    }
   ],
   "source": [
    "# set.add()\n",
    "# .append() is for LISTS.  Not sets because they don't have order.  \n",
    "nums = {1, 10, 100}\n",
    "print(nums)\n",
    "\n",
    "nums.add(11)\n",
    "print(nums)"
   ]
  },
  {
   "cell_type": "markdown",
   "metadata": {},
   "source": [
    "##### .remove()"
   ]
  },
  {
   "cell_type": "code",
   "execution_count": 82,
   "metadata": {},
   "outputs": [
    {
     "name": "stdout",
     "output_type": "stream",
     "text": [
      "{1, 11, 100}\n"
     ]
    }
   ],
   "source": [
    "# removes by value\n",
    "# set.remove()\n",
    "# nums.remove(56)\n",
    "\n",
    "nums.remove(10)\n",
    "print(nums)"
   ]
  },
  {
   "cell_type": "markdown",
   "metadata": {},
   "source": [
    "##### .union() "
   ]
  },
  {
   "cell_type": "code",
   "execution_count": 84,
   "metadata": {},
   "outputs": [
    {
     "name": "stdout",
     "output_type": "stream",
     "text": [
      "{1, 2, 3, 4, 5, 6, 7}\n",
      "{1, 2, 3, 4, 5, 6, 7}\n"
     ]
    }
   ],
   "source": [
    "# Works like a venn diagram\n",
    "# Returns a union of two sets, can also use '|' or set.union(set)\n",
    "# joins all numbers, gets rid of duplicates\n",
    "\n",
    "s1 = {1, 2, 3, 4}\n",
    "s2 = {4, 5, 6, 7}\n",
    "\n",
    "s3 = s1.union(s2)\n",
    "\n",
    "print(s3)\n",
    "\n",
    "s4 = s2|s1\n",
    "print(s4)"
   ]
  },
  {
   "cell_type": "markdown",
   "metadata": {},
   "source": [
    "##### .intersection()"
   ]
  },
  {
   "cell_type": "code",
   "execution_count": 87,
   "metadata": {},
   "outputs": [
    {
     "name": "stdout",
     "output_type": "stream",
     "text": [
      "{4}\n",
      "{4}\n"
     ]
    }
   ],
   "source": [
    "# Returns an intersection of two sets, can also use '&'\n",
    "# only takes similar elements from both sets\n",
    "\n",
    "s5 = s1.intersection(s2)\n",
    "print(s5)\n",
    "\n",
    "s6 = s2 & s1\n",
    "print(s6)"
   ]
  },
  {
   "cell_type": "markdown",
   "metadata": {},
   "source": [
    "##### .difference()"
   ]
  },
  {
   "cell_type": "code",
   "execution_count": 90,
   "metadata": {},
   "outputs": [
    {
     "name": "stdout",
     "output_type": "stream",
     "text": [
      "{1, 2, 3}\n",
      "{5, 6, 7}\n"
     ]
    }
   ],
   "source": [
    "# Returns a set containing all the elements of invoking set that are not in the second set, can also use '-'\n",
    "# only takes values from the first set that are not in the second set\n",
    "# order matters\n",
    "\n",
    "s7 = s1.difference(s2)\n",
    "print(s7)\n",
    "s8 = s2-s1\n",
    "print(s8)\n",
    "\n",
    "\n"
   ]
  },
  {
   "cell_type": "markdown",
   "metadata": {},
   "source": [
    "##### .clear()"
   ]
  },
  {
   "cell_type": "code",
   "execution_count": 92,
   "metadata": {},
   "outputs": [
    {
     "name": "stdout",
     "output_type": "stream",
     "text": [
      "{5, 6, 7}\n",
      "set()\n"
     ]
    }
   ],
   "source": [
    "# Empties the whole set\n",
    "# set.clear()\n",
    "\n",
    "print(s8)\n",
    "s8.clear()\n",
    "print(s8)\n",
    "\n",
    "# This .clear() actually changes the original - everything else didn't"
   ]
  },
  {
   "cell_type": "markdown",
   "metadata": {},
   "source": [
    "##### Frozenset <br>\n",
    "<p>Frozen sets are immutable objects that only support methods and operators that produce a result without affecting the frozen set or sets to which they are applied.</p><br><b>Unique & Immutable</b>"
   ]
  },
  {
   "cell_type": "code",
   "execution_count": 93,
   "metadata": {},
   "outputs": [
    {
     "name": "stdout",
     "output_type": "stream",
     "text": [
      "frozenset({1, 2, 3, 4})\n"
     ]
    }
   ],
   "source": [
    "# frozenset([])\n",
    "\n",
    "fro = frozenset(s1)\n",
    "print(fro)\n"
   ]
  },
  {
   "cell_type": "markdown",
   "metadata": {},
   "source": [
    "## Modules"
   ]
  },
  {
   "cell_type": "markdown",
   "metadata": {},
   "source": [
    "##### Importing Entire Modules"
   ]
  },
  {
   "cell_type": "code",
   "execution_count": 95,
   "metadata": {},
   "outputs": [
    {
     "name": "stdout",
     "output_type": "stream",
     "text": [
      "2\n",
      "3.141592653589793\n"
     ]
    }
   ],
   "source": [
    "# import or from 'xxx' import *\n",
    "# import math\n",
    "\n",
    "# documentation - python packages that exist online - built in\n",
    "\n",
    "import math\n",
    "\n",
    "print(math.ceil(1.5))\n",
    "print(math.pi)"
   ]
  },
  {
   "cell_type": "markdown",
   "metadata": {},
   "source": [
    "##### Importing Methods Only"
   ]
  },
  {
   "cell_type": "code",
   "execution_count": 99,
   "metadata": {},
   "outputs": [
    {
     "name": "stdout",
     "output_type": "stream",
     "text": [
      "4\n",
      "3.141592653589793\n",
      "2.718281828459045\n"
     ]
    }
   ],
   "source": [
    "# from 'xxx' import 'xxx'\n",
    "# from math import floor\n",
    "\n",
    "from math import ceil, pi, e\n",
    "print(ceil(3.4))\n",
    "print(pi)\n",
    "print(e)\n"
   ]
  },
  {
   "cell_type": "markdown",
   "metadata": {},
   "source": [
    "##### Using the 'as' Keyword"
   ]
  },
  {
   "cell_type": "code",
   "execution_count": 101,
   "metadata": {},
   "outputs": [
    {
     "data": {
      "text/plain": [
       "3.141592653589793"
      ]
     },
     "execution_count": 101,
     "metadata": {},
     "output_type": "execute_result"
    }
   ],
   "source": [
    "# from 'xxx' import 'xxx' as 'xxx' or import 'xxx' as 'xxx'\n",
    "# from math import floor as f\n",
    "# Renaming (giving a nickname or alias)\n",
    "\n",
    "from math import ceil as roundUp\n",
    "\n",
    "roundUp(5.7)\n",
    "\n",
    "import math as bigbrain\n",
    "\n",
    "bigbrain.pi"
   ]
  },
  {
   "cell_type": "markdown",
   "metadata": {},
   "source": [
    "##### Creating a Module"
   ]
  },
  {
   "cell_type": "code",
   "execution_count": 103,
   "metadata": {},
   "outputs": [
    {
     "name": "stdout",
     "output_type": "stream",
     "text": [
      "shoha\n",
      "7\n"
     ]
    }
   ],
   "source": [
    "# created a file called matt.py in VSCode\n",
    "\n",
    "import matt\n",
    "\n",
    "print(matt.name)\n",
    "print(matt.roundUp(6.8))\n",
    "\n",
    "# If you keep using the same functions in different files, you can make your \n",
    "# own modules that can communicate between files"
   ]
  },
  {
   "cell_type": "markdown",
   "metadata": {},
   "source": [
    "# Exercises"
   ]
  },
  {
   "cell_type": "markdown",
   "metadata": {},
   "source": [
    "### 1) Build a Shopping Cart <br>\n",
    "<p><b>You can use either lists or dictionaries. The program should have the following capabilities:</b><br><br>\n",
    "1) Takes in input <br>\n",
    "2) Stores user input into a dictionary or list <br>\n",
    "3) The User can add or delete items <br>\n",
    "4) The User can see current shopping list <br>\n",
    "5) The program Loops until user 'quits' <br>\n",
    "6) Upon quiting the program, print out all items in the user's list <br>\n",
    "</p>"
   ]
  },
  {
   "cell_type": "code",
   "execution_count": 127,
   "metadata": {},
   "outputs": [
    {
     "name": "stdout",
     "output_type": "stream",
     "text": [
      "What do you want to do?  Show/Add/Delete or Quit?  add\n",
      "What do you want to add to your cart?  bananas\n",
      "How many bananas would you like?  2\n",
      "What do you want to do?  Show/Add/Delete or Quit?  add\n",
      "What do you want to add to your cart?  bacon\n",
      "How many bacon would you like?  4\n",
      "What do you want to do?  Show/Add/Delete or Quit?  show\n",
      "You currently have the following items in your cart:  \n",
      "\t('bananas', '2')\n",
      "\t('bacon', '4')\n",
      "What do you want to do?  Show/Add/Delete or Quit?  quit\n",
      "You have the following items in your cart:  \n",
      "\t('bananas', '2')\n",
      "\t('bacon', '4')\n"
     ]
    }
   ],
   "source": [
    "from IPython.display import clear_output\n",
    "\n",
    "# Ask the user four bits of input: Do you want to : Show/Add/Delete or Quit?\n",
    "\n",
    "def shoppingCart():\n",
    "    cart = {}\n",
    "    while True:\n",
    "        x = input('What do you want to do?  Show/Add/Delete or Quit?  ')\n",
    "        \n",
    "        if x.lower() == 'quit':\n",
    "            print(f'You have the following items in your cart:  ')\n",
    "            for key, value in cart.items():\n",
    "                  print(f'\\t{key, value}')\n",
    "            break\n",
    "            \n",
    "        elif x.lower() == 'show':\n",
    "            if cart == {}:\n",
    "                print('There is nothing in your cart.')\n",
    "            else:\n",
    "                print(f'You currently have the following items in your cart:  ')\n",
    "                for key, value in cart.items():\n",
    "                    print(f'\\t{key, value}')\n",
    "            \n",
    "        elif x.lower() == 'add':\n",
    "            item = input('What do you want to add to your cart?  ')\n",
    "            num = input(f'How many {item.lower()} would you like?  ')\n",
    "            cart[item.lower()] = num\n",
    "            \n",
    "        elif x.lower() == 'delete':\n",
    "            remove = input('What would you like to remove from your cart?  ')\n",
    "            if remove.lower() in cart:\n",
    "                del cart[remove.lower()]\n",
    "                print(f'You now have the following items in your cart:  ')\n",
    "                for key, value in cart.items():\n",
    "                    print(f'\\t{key, value}')\n",
    "            else:\n",
    "                print('That item is not currently in your cart.')\n",
    "                \n",
    "        else:\n",
    "            print('Invalid entry.  Please try again.')\n",
    "\n",
    "\n",
    "shoppingCart()\n"
   ]
  },
  {
   "cell_type": "code",
   "execution_count": null,
   "metadata": {},
   "outputs": [],
   "source": []
  },
  {
   "cell_type": "markdown",
   "metadata": {},
   "source": [
    "### 2) Create a Module in VS Code and Import It into jupyter notebook <br>\n",
    "<p><b>Module should have the following capabilities:</b><br><br>\n",
    "1) Has a function to calculate the square footage of a house <br>\n",
    "    <b>Reminder of Formula: Length X Width == Area<br>\n",
    "        <hr>\n",
    "2) Has a function to calculate the circumference of a circle <br><br>\n",
    "<b>Program in Jupyter Notebook should take in user input and use imported functions to calculate a circle's circumference or a houses square footage</b>\n",
    "</p>"
   ]
  },
  {
   "cell_type": "code",
   "execution_count": 126,
   "metadata": {},
   "outputs": [
    {
     "name": "stdout",
     "output_type": "stream",
     "text": [
      "8\n",
      "21.991148575128552\n"
     ]
    }
   ],
   "source": [
    "import module\n",
    "\n",
    "module.area(l, w)\n",
    "\n",
    "module.circumference(d)"
   ]
  },
  {
   "cell_type": "code",
   "execution_count": null,
   "metadata": {},
   "outputs": [],
   "source": []
  }
 ],
 "metadata": {
  "kernelspec": {
   "display_name": "Python 3 (ipykernel)",
   "language": "python",
   "name": "python3"
  },
  "language_info": {
   "codemirror_mode": {
    "name": "ipython",
    "version": 3
   },
   "file_extension": ".py",
   "mimetype": "text/x-python",
   "name": "python",
   "nbconvert_exporter": "python",
   "pygments_lexer": "ipython3",
   "version": "3.9.13"
  }
 },
 "nbformat": 4,
 "nbformat_minor": 2
}
